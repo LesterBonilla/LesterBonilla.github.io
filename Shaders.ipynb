{
 "cells": [
  {
   "cell_type": "markdown",
   "id": "ed45576c",
   "metadata": {
    "slideshow": {
     "slide_type": "slide"
    }
   },
   "source": [
    "# Shaders\n",
    "\n",
    "<img src=\"capture.gif\" width=\"800\" align=\"right\"/>\n",
    "    \n",
    "### A quick overview by Lester Bonilla\n",
    "\n"
   ]
  },
  {
   "cell_type": "markdown",
   "id": "f63a2c9b",
   "metadata": {
    "slideshow": {
     "slide_type": "skip"
    }
   },
   "source": [
    "<p>What are shaders?</p>\n",
    "<p>How have shaders evolved over time?</p>\n",
    "<p>How do graphics cards display shaders?</p>\n",
    "<p>What are the current technologies used in shaders?</p>\n",
    "\n"
   ]
  },
  {
   "cell_type": "markdown",
   "id": "1476a885",
   "metadata": {
    "slideshow": {
     "slide_type": "slide"
    }
   },
   "source": [
    "## What are Shaders?\n",
    "\n",
    "<p> Shaders are programs that calculate the values of <b>pixels</b> of an image in order to create depth, lighting, and other effects. This is very similar to shading techniques in physical art media.</p>\n",
    "<p> 3D shapes are 'rasterized' into a 2D image of pixels to realize them on a screen. The shader then manipulates each pixel to approximate the effects.</p>\n",
    "<p> Pixels are manipulated via vectors that contain information about what each pixel on the screen should be displaying. </p>\n",
    "<p> There are two vectors used by shaders: <b>Fragment vectors</b> and <b>Vertex vectors</b>\n",
    "    \n"
   ]
  },
  {
   "cell_type": "markdown",
   "id": "878afbd0",
   "metadata": {
    "slideshow": {
     "slide_type": "slide"
    }
   },
   "source": [
    "# Pixels\n",
    "<p>A pixel is the smallest unit in a raster image (an image made of a grid of square units).</p>\n",
    "Each pixel has a Red, Green, Blue, and Alpha (opacity) property. The color of a pixel is determined by these values, and is represented by a vector."
   ]
  },
  {
   "cell_type": "markdown",
   "id": "5bb6ad3b",
   "metadata": {
    "slideshow": {
     "slide_type": "slide"
    }
   },
   "source": [
    "# Manipulation of Pixels\n",
    "<p> Image editors manipulate pixels to produce effects. Here is an example of a multiply blending mode I implemented in a class project, for demonstration. Images owned by UF.</p> The multiply mode combines the images, darkening the color wheel and keeping the pattern from the first image.\n",
    "<p> Press the down arrow on the screen to view examples </p>\n",
    "\n"
   ]
  },
  {
   "cell_type": "markdown",
   "id": "939169d0",
   "metadata": {
    "slideshow": {
     "slide_type": "subslide"
    }
   },
   "source": [
    "<p> <img src=\"pattern1.png\" width=\"500\" align=\"left\"/></p> \n",
    "<p> <img src=\"layer1.png\" width=\"500\" align=\"right\"/></p>"
   ]
  },
  {
   "cell_type": "markdown",
   "id": "0535922d",
   "metadata": {
    "slideshow": {
     "slide_type": "subslide"
    }
   },
   "source": [
    "<p> <img src=\"multiply.png\" width=\"600\" align=\"\"/></p>"
   ]
  },
  {
   "cell_type": "markdown",
   "id": "33aab0a0",
   "metadata": {
    "slideshow": {
     "slide_type": "slide"
    }
   },
   "source": [
    "# Fragment/Pixel Vectors\n",
    "Determine the color of each pixel via RGBA values, written as RGBA. Used in 2D shading. Functions are performed on these vectors that can change the image displayed based on time, input, such as cursor location, and other events.\n",
    "\n",
    "# Vertex Vectors\n",
    "Describe the position of a vertex in a 3D model. Manipulation of vertex vectors is used to apply 2D textures onto 3D models."
   ]
  },
  {
   "cell_type": "markdown",
   "id": "f75efcc0",
   "metadata": {
    "slideshow": {
     "slide_type": "slide"
    }
   },
   "source": [
    "## The GPU\n",
    "Shaders perform similar instructions on thousands of pixels many times per second. Since the instructions are similar, they are performed through <b>parallel processing.</b> As computer graphics became more advanced, it made sense to develop a separate processing unit to execute these instructions so that the CPU could be unburdened. Performant GPUs are necessary to play the latest games and to perform heavy video editing and rendering.\n",
    "## Shading Languages\n",
    "There are specific languages developed for programming shaders. The most common ones are OpenGL Shading Language (GLSL) and Direct3D High Level Shading Language. Apple has recently created a shading language they call Metel."
   ]
  },
  {
   "cell_type": "markdown",
   "id": "3a3f119e",
   "metadata": {
    "slideshow": {
     "slide_type": "slide"
    }
   },
   "source": [
    "# [ShaderToy](shadertoy.com/new)\n",
    "A website that allows you to code shaders and pixel vectors and see how they affect an image. Uses the shading language GLSL, which is modeled after the C language. In this image, the shader is setting all pixels of the screen to display only green values. Press the down arrow to see more examples of manipulting the color values.\n",
    "\n",
    "<img src=\"allgreen.png\" width=\"900\" align=\"center\"/>\n"
   ]
  },
  {
   "cell_type": "markdown",
   "id": "dbaea27a",
   "metadata": {
    "slideshow": {
     "slide_type": "subslide"
    }
   },
   "source": [
    "<img src=\"allred.png\" width=\"1200\" align=\"center\"/>"
   ]
  },
  {
   "cell_type": "markdown",
   "id": "539f320d",
   "metadata": {
    "slideshow": {
     "slide_type": "subslide"
    }
   },
   "source": [
    "<img src=\"purple.png\" width=\"1200\" align=\"center\"/>"
   ]
  },
  {
   "cell_type": "markdown",
   "id": "742003ee",
   "metadata": {
    "slideshow": {
     "slide_type": "slide"
    }
   },
   "source": [
    "# Fractals in Shadertoy\n",
    "I followed this [tutroial](https://www.youtube.com/watch?v=8bbTkNZYdQ8) to explore different features of GLSL and Shadertoy to create fractal images. The shader creates a similar shape via the colors for each quadrant of the screen, and randomizes that shape based on the computer time.\n",
    "<img src=\"fractal1.gif\" width=\"1100\"  align=\"center\"/>"
   ]
  },
  {
   "cell_type": "markdown",
   "id": "c79ea692",
   "metadata": {
    "slideshow": {
     "slide_type": "subslide"
    }
   },
   "source": [
    "<img src=\"fractal2.gif\" align=\"center\"/>"
   ]
  },
  {
   "cell_type": "markdown",
   "id": "94f66682",
   "metadata": {
    "slideshow": {
     "slide_type": "slide"
    }
   },
   "source": [
    "# Ray Tracing\n",
    "A relatively recent turn in computer graphics, <b>ray tracing</b> is a different process of rendering images compared to rasterization. Rasterization creates the illusion of depth by approximating shadows and scaling. <p>Ray tracing instead tracks beams of light from a point of view and calculates how they would bounce off of and interact with objects in a scene. This creates a much more realistic and detailed image, with the cost of being extremely computationally expensive. </p>\n",
    "<p> Ray tracing is used in animated films which are rendered with the use of server farms. An average scene from the movie Toy Story 3 took 7 hours to render, with some frames taking up to 39 hours."
   ]
  },
  {
   "cell_type": "markdown",
   "id": "e9f04561",
   "metadata": {
    "slideshow": {
     "slide_type": "subslide"
    }
   },
   "source": [
    "\n",
    "<img src=\"raytracingexample.png\" width=\"900\" align=\"center\"/>"
   ]
  },
  {
   "cell_type": "markdown",
   "id": "8d948f29",
   "metadata": {
    "slideshow": {
     "slide_type": "subslide"
    }
   },
   "source": [
    "Example taken from wikipedia page: https://en.wikipedia.org/wiki/Ray_tracing_(graphics)#/media/File:Glasses_800_edit.png"
   ]
  },
  {
   "cell_type": "markdown",
   "id": "ac2b6632",
   "metadata": {
    "slideshow": {
     "slide_type": "slide"
    }
   },
   "source": [
    "# Surface of the Surface\n",
    "\n",
    "<p>In this quick overview I have only touched on the fundamentals. There is a plethora of work being done in computer graphics and much to learn. Through reading wikipedia pages for direction and youTube tutorials for guidance, I have learned a lot about something that seemed esoteric and inaccessible. </p>\n",
    "\n",
    "<p> The most impressive thing I learned was that ray tracing can be used with audio to create more immersive sound representation. Audio waves are traced in a similar fashion and the sound is affected by bouncing off of items in a scene! </p>\n",
    "\n",
    "<p>Topics that I can dive in from here include tesselation, shading techniques (gouraud, phong, flat vs smooth), and the implementation of shading in simple games like Minecraft and Terraria. </p>\n"
   ]
  },
  {
   "cell_type": "markdown",
   "id": "a78f6515",
   "metadata": {
    "slideshow": {
     "slide_type": "slide"
    }
   },
   "source": [
    "# Thank you for visiting my Shader Overview!"
   ]
  }
 ],
 "metadata": {
  "celltoolbar": "Slideshow",
  "kernelspec": {
   "display_name": "Python 3 (ipykernel)",
   "language": "python",
   "name": "python3"
  },
  "language_info": {
   "codemirror_mode": {
    "name": "ipython",
    "version": 3
   },
   "file_extension": ".py",
   "mimetype": "text/x-python",
   "name": "python",
   "nbconvert_exporter": "python",
   "pygments_lexer": "ipython3",
   "version": "3.9.13"
  }
 },
 "nbformat": 4,
 "nbformat_minor": 5
}
